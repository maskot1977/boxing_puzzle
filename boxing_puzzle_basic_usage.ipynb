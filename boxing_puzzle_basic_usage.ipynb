{
  "nbformat": 4,
  "nbformat_minor": 0,
  "metadata": {
    "colab": {
      "name": "boxing_puzzle_basic_usage",
      "provenance": [],
      "collapsed_sections": [],
      "authorship_tag": "ABX9TyPrfHK6xDRyY1N8TfSynXOJ",
      "include_colab_link": true
    },
    "kernelspec": {
      "name": "python3",
      "display_name": "Python 3"
    }
  },
  "cells": [
    {
      "cell_type": "markdown",
      "metadata": {
        "id": "view-in-github",
        "colab_type": "text"
      },
      "source": [
        "<a href=\"https://colab.research.google.com/github/maskot1977/boxing_puzzle/blob/main/boxing_puzzle_basic_usage.ipynb\" target=\"_parent\"><img src=\"https://colab.research.google.com/assets/colab-badge.svg\" alt=\"Open In Colab\"/></a>"
      ]
    },
    {
      "cell_type": "code",
      "metadata": {
        "colab": {
          "base_uri": "https://localhost:8080/"
        },
        "id": "kvNvBDN2TQdp",
        "outputId": "4a1d6afe-5de5-4326-f6af-63647265bfb9"
      },
      "source": [
        "!pip install git+https://github.com/maskot1977/boxing_puzzle.git"
      ],
      "execution_count": 1,
      "outputs": [
        {
          "output_type": "stream",
          "text": [
            "Collecting git+https://github.com/maskot1977/boxing_puzzle.git\n",
            "  Cloning https://github.com/maskot1977/boxing_puzzle.git to /tmp/pip-req-build-i889io1n\n",
            "  Running command git clone -q https://github.com/maskot1977/boxing_puzzle.git /tmp/pip-req-build-i889io1n\n",
            "Building wheels for collected packages: boxing-puzzle\n",
            "  Building wheel for boxing-puzzle (setup.py) ... \u001b[?25l\u001b[?25hdone\n",
            "  Created wheel for boxing-puzzle: filename=boxing_puzzle-0.1.0-cp36-none-any.whl size=3594 sha256=4a1e53b1f9afdeb8d8eb706f246e136ba85cfee1a147ea2c728257cbc0148efb\n",
            "  Stored in directory: /tmp/pip-ephem-wheel-cache-vzi6ewbi/wheels/fd/78/cd/6ee72baa8669425e63e2f02f4f339c9a76491108789181079a\n",
            "Successfully built boxing-puzzle\n",
            "Installing collected packages: boxing-puzzle\n",
            "Successfully installed boxing-puzzle-0.1.0\n"
          ],
          "name": "stdout"
        }
      ]
    },
    {
      "cell_type": "code",
      "metadata": {
        "id": "e7wdXUQZTU57"
      },
      "source": [
        "from boxing_puzzle import boxing"
      ],
      "execution_count": 2,
      "outputs": []
    },
    {
      "cell_type": "code",
      "metadata": {
        "colab": {
          "base_uri": "https://localhost:8080/"
        },
        "id": "q7AdlpOATcTf",
        "outputId": "55be0984-75ac-4760-f3e8-aad30c9d1390"
      },
      "source": [
        "matrix = boxing.find_one()"
      ],
      "execution_count": 3,
      "outputs": [
        {
          "output_type": "stream",
          "text": [
            "1360 th trial\n"
          ],
          "name": "stdout"
        }
      ]
    },
    {
      "cell_type": "code",
      "metadata": {
        "colab": {
          "base_uri": "https://localhost:8080/",
          "height": 292
        },
        "id": "kkTpDLcHTfTU",
        "outputId": "ab7167c5-a92b-4d7f-ae03-7ecd25ac21fa"
      },
      "source": [
        "boxing.depict(matrix, \"result.png\")"
      ],
      "execution_count": 4,
      "outputs": [
        {
          "output_type": "display_data",
          "data": {
            "image/png": "[encoded data removed]",
            "text/plain": [
              "<Figure size 432x288 with 1 Axes>"
            ]
          },
          "metadata": {
            "tags": [],
            "needs_background": "light"
          }
        }
      ]
    },
    {
      "cell_type": "code",
      "metadata": {
        "colab": {
          "base_uri": "https://localhost:8080/",
          "height": 309
        },
        "id": "OJ-1-Z0dUXEH",
        "outputId": "eb136ff8-4561-4716-97a0-6c20433575b1"
      },
      "source": [
        "matrix = boxing.find_one(\n",
        "    x_length = 8,\n",
        "    y_length = 5,\n",
        "    piece_size = 4,\n",
        "    same_piece_limit = 2,\n",
        "    max_trial = 530000\n",
        ")\n",
        "boxing.depict(matrix, \"result1.png\")"
      ],
      "execution_count": 5,
      "outputs": [
        {
          "output_type": "stream",
          "text": [
            "313 th trial\n"
          ],
          "name": "stdout"
        },
        {
          "output_type": "display_data",
          "data": {
            "image/png": "[encoded data removed]",
            "text/plain": [
              "<Figure size 432x288 with 1 Axes>"
            ]
          },
          "metadata": {
            "tags": [],
            "needs_background": "light"
          }
        }
      ]
    },
    {
      "cell_type": "code",
      "metadata": {
        "id": "Pn92MLCgVEKg"
      },
      "source": [
        ""
      ],
      "execution_count": null,
      "outputs": []
    }
  ]
}